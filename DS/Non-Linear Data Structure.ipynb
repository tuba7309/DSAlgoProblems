{
 "cells": [
  {
   "cell_type": "code",
   "execution_count": 1,
   "metadata": {},
   "outputs": [
    {
     "name": "stdout",
     "output_type": "stream",
     "text": [
      "[0, 1, 1, 2]\n"
     ]
    }
   ],
   "source": [
    "def fib(n):\n",
    "    if n == 1:\n",
    "        return 0\n",
    "    series = [0,1]\n",
    "    for i in range(n-2) : \n",
    "        series.append(series[i]+series[i+1]) \n",
    "    return series\n",
    "print(fib(5))"
   ]
  },
  {
   "cell_type": "code",
   "execution_count": 2,
   "metadata": {},
   "outputs": [
    {
     "name": "stdout",
     "output_type": "stream",
     "text": [
      "[0, 1, 1, 2, 3]\n"
     ]
    }
   ],
   "source": [
    "fib(5)"
   ]
  },
  {
   "cell_type": "code",
   "execution_count": 21,
   "metadata": {},
   "outputs": [],
   "source": [
    "class Node:\n",
    "    \n",
    "    def __init__(self,data):\n",
    "        self.left = None\n",
    "        self.right = None\n",
    "        self.data = data\n",
    "    \n",
    "    def insert(self, data) : \n",
    "        if self.data:\n",
    "            if data < self.data :\n",
    "                if self.left is None:\n",
    "                    self.left = Node(data)\n",
    "                else:\n",
    "                    self.left.insert(data)\n",
    "            elif data > self.data : \n",
    "                if self.right is None:\n",
    "                    self.right = Node(data)\n",
    "                else:\n",
    "                    self.right.insert(data)\n",
    "        \n",
    "        else:\n",
    "            self.data = data\n",
    "            \n",
    "    def find_val(self,val) : \n",
    "        if val < self.data : \n",
    "            if self.left is None :\n",
    "                return str(val)+\" not found\"\n",
    "            return self.left.find_val(val)\n",
    "        elif val> self.data:\n",
    "            if self.right is None :\n",
    "                return str(val)+\" not found\"\n",
    "            return self.right.find_val(val)\n",
    "        else:\n",
    "            print(str(self.data) + ' is found')\n",
    "                \n",
    "                    \n",
    "    \n",
    "    def print_tree(self):\n",
    "        if self.left :\n",
    "            self.left.print_tree()\n",
    "        print(self.data),\n",
    "        if self.right :\n",
    "            self.right.print_tree()\n",
    "            \n"
   ]
  },
  {
   "cell_type": "code",
   "execution_count": 22,
   "metadata": {},
   "outputs": [],
   "source": [
    "root = Node(10)\n",
    "root.insert(12)\n",
    "root.insert(8)\n",
    "root.insert(9)\n",
    "root.insert(15)"
   ]
  },
  {
   "cell_type": "code",
   "execution_count": 25,
   "metadata": {},
   "outputs": [
    {
     "name": "stdout",
     "output_type": "stream",
     "text": [
      "15 is found\n"
     ]
    }
   ],
   "source": [
    "root.find_val(15)"
   ]
  },
  {
   "cell_type": "code",
   "execution_count": 32,
   "metadata": {},
   "outputs": [
    {
     "data": {
      "text/plain": [
       "'h'"
      ]
     },
     "execution_count": 32,
     "metadata": {},
     "output_type": "execute_result"
    }
   ],
   "source": [
    "\"the\"[1]"
   ]
  },
  {
   "cell_type": "code",
   "execution_count": null,
   "metadata": {},
   "outputs": [],
   "source": []
  }
 ],
 "metadata": {
  "kernelspec": {
   "display_name": "Python 3",
   "language": "python",
   "name": "python3"
  },
  "language_info": {
   "codemirror_mode": {
    "name": "ipython",
    "version": 3
   },
   "file_extension": ".py",
   "mimetype": "text/x-python",
   "name": "python",
   "nbconvert_exporter": "python",
   "pygments_lexer": "ipython3",
   "version": "3.7.4"
  }
 },
 "nbformat": 4,
 "nbformat_minor": 2
}
